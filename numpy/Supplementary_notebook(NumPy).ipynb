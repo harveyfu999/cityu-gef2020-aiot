{
 "cells": [
  {
   "cell_type": "code",
   "execution_count": 2,
   "id": "c9a261fd",
   "metadata": {},
   "outputs": [],
   "source": [
    "import numpy as np"
   ]
  },
  {
   "cell_type": "markdown",
   "id": "3f4a93eb",
   "metadata": {},
   "source": [
    "# Writing efficient Python code using array broadcasting"
   ]
  },
  {
   "cell_type": "markdown",
   "id": "d935f234",
   "metadata": {},
   "source": [
    "Suppose we want to multiply the matrix $n$-th row of a matrix by a number $n$, i.e. multiply 1st row by 1, 2nd row by 2 and so on. "
   ]
  },
  {
   "cell_type": "markdown",
   "id": "cfd87c64",
   "metadata": {},
   "source": [
    "For example:\n",
    "\n",
    "$$\n",
    "\\begin{pmatrix}\n",
    "1 & 2 \\\\\n",
    "3 & 4\n",
    "\\end {pmatrix}\n",
    "\\rightarrow\n",
    "\\begin{pmatrix}\n",
    "1 & 2 \\\\\n",
    "6 & 8\n",
    "\\end {pmatrix}\n",
    "$$"
   ]
  },
  {
   "cell_type": "markdown",
   "id": "b4983bd6",
   "metadata": {},
   "source": [
    "We can do this using two different methods:\n",
    "1. Using a for loop\n",
    "2. Using array broadcasting\n",
    "\n",
    "Let's look at the required time for these two methods."
   ]
  },
  {
   "cell_type": "markdown",
   "id": "d34bc252",
   "metadata": {},
   "source": [
    "## Method 1: For Loop"
   ]
  },
  {
   "cell_type": "code",
   "execution_count": 3,
   "id": "7f8793b5",
   "metadata": {},
   "outputs": [
    {
     "data": {
      "text/plain": [
       "array([[1, 2],\n",
       "       [3, 4]])"
      ]
     },
     "execution_count": 3,
     "metadata": {},
     "output_type": "execute_result"
    }
   ],
   "source": [
    "z = np.arange(1,5).reshape(2,2)\n",
    "z"
   ]
  },
  {
   "cell_type": "code",
   "execution_count": 4,
   "id": "cc114cee",
   "metadata": {},
   "outputs": [
    {
     "data": {
      "text/plain": [
       "array([[1, 2],\n",
       "       [6, 8]])"
      ]
     },
     "execution_count": 4,
     "metadata": {},
     "output_type": "execute_result"
    }
   ],
   "source": [
    "for i in range(2):\n",
    "    z[i,:] = z[i,:]*(i+1)\n",
    "z"
   ]
  },
  {
   "cell_type": "code",
   "execution_count": 5,
   "id": "0017c36c",
   "metadata": {},
   "outputs": [
    {
     "name": "stdout",
     "output_type": "stream",
     "text": [
      "2.64 µs ± 32.2 ns per loop (mean ± std. dev. of 7 runs, 100000 loops each)\n"
     ]
    }
   ],
   "source": [
    "%%timeit\n",
    "for i in range(2):\n",
    "    z[i,:] = z[i,:]*(i+1)"
   ]
  },
  {
   "cell_type": "markdown",
   "id": "0d7b7737",
   "metadata": {},
   "source": [
    "### Large array"
   ]
  },
  {
   "cell_type": "code",
   "execution_count": 5,
   "id": "cd99aebf",
   "metadata": {},
   "outputs": [
    {
     "data": {
      "text/plain": [
       "array([[   1,    2],\n",
       "       [   3,    4],\n",
       "       [   5,    6],\n",
       "       ...,\n",
       "       [1995, 1996],\n",
       "       [1997, 1998],\n",
       "       [1999, 2000]])"
      ]
     },
     "execution_count": 5,
     "metadata": {},
     "output_type": "execute_result"
    }
   ],
   "source": [
    "large_z = np.arange(1,2001).reshape(-1,2)\n",
    "large_z"
   ]
  },
  {
   "cell_type": "code",
   "execution_count": 6,
   "id": "705375e5",
   "metadata": {},
   "outputs": [
    {
     "data": {
      "text/plain": [
       "array([[      1,       2],\n",
       "       [      6,       8],\n",
       "       [     15,      18],\n",
       "       ...,\n",
       "       [1991010, 1992008],\n",
       "       [1995003, 1996002],\n",
       "       [1999000, 2000000]])"
      ]
     },
     "execution_count": 6,
     "metadata": {},
     "output_type": "execute_result"
    }
   ],
   "source": [
    "for i in range(1000):\n",
    "    large_z[i,:] = large_z[i,:]*(i+1)\n",
    "large_z"
   ]
  },
  {
   "cell_type": "code",
   "execution_count": 7,
   "id": "68e5ba91",
   "metadata": {},
   "outputs": [
    {
     "name": "stdout",
     "output_type": "stream",
     "text": [
      "1.4 ms ± 24.3 µs per loop (mean ± std. dev. of 7 runs, 1000 loops each)\n"
     ]
    }
   ],
   "source": [
    "%%timeit\n",
    "for i in range(1000):\n",
    "    large_z[i,:] = large_z[i,:]*(i+1)"
   ]
  },
  {
   "cell_type": "markdown",
   "id": "a87e917d",
   "metadata": {},
   "source": [
    "## Method 2: Array Broadcasting"
   ]
  },
  {
   "cell_type": "code",
   "execution_count": 8,
   "id": "54da7d81",
   "metadata": {},
   "outputs": [
    {
     "data": {
      "text/plain": [
       "array([[1, 2],\n",
       "       [3, 4]])"
      ]
     },
     "execution_count": 8,
     "metadata": {},
     "output_type": "execute_result"
    }
   ],
   "source": [
    "x = np.arange(1,5).reshape(2,2)\n",
    "x"
   ]
  },
  {
   "cell_type": "code",
   "execution_count": 9,
   "id": "32550853",
   "metadata": {},
   "outputs": [
    {
     "data": {
      "text/plain": [
       "array([[1],\n",
       "       [2]])"
      ]
     },
     "execution_count": 9,
     "metadata": {},
     "output_type": "execute_result"
    }
   ],
   "source": [
    "y = np.arange(1,3).reshape(2,1)\n",
    "y"
   ]
  },
  {
   "cell_type": "code",
   "execution_count": 10,
   "id": "62ba155b",
   "metadata": {},
   "outputs": [
    {
     "name": "stdout",
     "output_type": "stream",
     "text": [
      "[[1 2]\n",
      " [6 8]]\n"
     ]
    }
   ],
   "source": [
    "print(x*y)"
   ]
  },
  {
   "cell_type": "code",
   "execution_count": 11,
   "id": "e43c3145",
   "metadata": {},
   "outputs": [
    {
     "name": "stdout",
     "output_type": "stream",
     "text": [
      "1.06 µs ± 34.8 ns per loop (mean ± std. dev. of 7 runs, 1000000 loops each)\n"
     ]
    }
   ],
   "source": [
    "%timeit x*y"
   ]
  },
  {
   "cell_type": "markdown",
   "id": "55734c8e",
   "metadata": {},
   "source": [
    "### Large array"
   ]
  },
  {
   "cell_type": "code",
   "execution_count": 12,
   "id": "2f5a0be9",
   "metadata": {},
   "outputs": [
    {
     "data": {
      "text/plain": [
       "array([[   1,    2],\n",
       "       [   3,    4],\n",
       "       [   5,    6],\n",
       "       ...,\n",
       "       [1995, 1996],\n",
       "       [1997, 1998],\n",
       "       [1999, 2000]])"
      ]
     },
     "execution_count": 12,
     "metadata": {},
     "output_type": "execute_result"
    }
   ],
   "source": [
    "large_x = np.arange(1,2001).reshape(-1,2)\n",
    "large_x"
   ]
  },
  {
   "cell_type": "code",
   "execution_count": 13,
   "id": "dd0d8679",
   "metadata": {},
   "outputs": [],
   "source": [
    "large_y = np.arange(1,1001).reshape(-1,1)\n"
   ]
  },
  {
   "cell_type": "code",
   "execution_count": 14,
   "id": "a55d4af7",
   "metadata": {},
   "outputs": [
    {
     "data": {
      "text/plain": [
       "array([[      1,       2],\n",
       "       [      6,       8],\n",
       "       [     15,      18],\n",
       "       ...,\n",
       "       [1991010, 1992008],\n",
       "       [1995003, 1996002],\n",
       "       [1999000, 2000000]])"
      ]
     },
     "execution_count": 14,
     "metadata": {},
     "output_type": "execute_result"
    }
   ],
   "source": [
    "large_x*large_y"
   ]
  },
  {
   "cell_type": "code",
   "execution_count": 15,
   "id": "40ca8ade",
   "metadata": {},
   "outputs": [
    {
     "name": "stdout",
     "output_type": "stream",
     "text": [
      "12.7 µs ± 255 ns per loop (mean ± std. dev. of 7 runs, 100000 loops each)\n"
     ]
    }
   ],
   "source": [
    "%timeit large_x*large_y"
   ]
  },
  {
   "cell_type": "code",
   "execution_count": 7,
   "id": "be4d2c27",
   "metadata": {},
   "outputs": [
    {
     "ename": "ValueError",
     "evalue": "operands could not be broadcast together with shapes (2,3) (3,1) ",
     "output_type": "error",
     "traceback": [
      "\u001b[0;31m-----------------------------------------------------------------------\u001b[0m",
      "\u001b[0;31mValueError\u001b[0m                            Traceback (most recent call last)",
      "\u001b[0;32m<ipython-input-7-e5dd9141d0b7>\u001b[0m in \u001b[0;36m<module>\u001b[0;34m\u001b[0m\n\u001b[1;32m      1\u001b[0m \u001b[0mx\u001b[0m \u001b[0;34m=\u001b[0m \u001b[0mnp\u001b[0m\u001b[0;34m.\u001b[0m\u001b[0marray\u001b[0m\u001b[0;34m(\u001b[0m\u001b[0;34m[\u001b[0m\u001b[0;34m[\u001b[0m\u001b[0;36m0\u001b[0m\u001b[0;34m,\u001b[0m \u001b[0;36m0\u001b[0m\u001b[0;34m,\u001b[0m \u001b[0;36m0\u001b[0m\u001b[0;34m]\u001b[0m\u001b[0;34m,\u001b[0m \u001b[0;34m[\u001b[0m\u001b[0;36m3\u001b[0m\u001b[0;34m,\u001b[0m \u001b[0;36m4\u001b[0m\u001b[0;34m,\u001b[0m \u001b[0;36m5\u001b[0m\u001b[0;34m]\u001b[0m\u001b[0;34m]\u001b[0m\u001b[0;34m)\u001b[0m\u001b[0;34m\u001b[0m\u001b[0;34m\u001b[0m\u001b[0m\n\u001b[1;32m      2\u001b[0m \u001b[0my\u001b[0m \u001b[0;34m=\u001b[0m \u001b[0mnp\u001b[0m\u001b[0;34m.\u001b[0m\u001b[0marray\u001b[0m\u001b[0;34m(\u001b[0m\u001b[0;34m[\u001b[0m\u001b[0;34m[\u001b[0m\u001b[0;36m10\u001b[0m\u001b[0;34m]\u001b[0m\u001b[0;34m,\u001b[0m \u001b[0;34m[\u001b[0m\u001b[0;36m20\u001b[0m\u001b[0;34m]\u001b[0m\u001b[0;34m,\u001b[0m \u001b[0;34m[\u001b[0m\u001b[0;36m30\u001b[0m\u001b[0;34m]\u001b[0m\u001b[0;34m]\u001b[0m\u001b[0;34m)\u001b[0m\u001b[0;34m\u001b[0m\u001b[0;34m\u001b[0m\u001b[0m\n\u001b[0;32m----> 3\u001b[0;31m \u001b[0mx\u001b[0m \u001b[0;34m*\u001b[0m \u001b[0my\u001b[0m\u001b[0;34m\u001b[0m\u001b[0;34m\u001b[0m\u001b[0m\n\u001b[0m",
      "\u001b[0;31mValueError\u001b[0m: operands could not be broadcast together with shapes (2,3) (3,1) "
     ]
    }
   ],
   "source": [
    "x = np.array([[0, 0, 0], [3, 4, 5]])\n",
    "y = np.array([[10], [20]])\n",
    "x * y"
   ]
  },
  {
   "cell_type": "code",
   "execution_count": 9,
   "id": "306420ae-9ebf-4aae-a441-7cc23207fbf4",
   "metadata": {},
   "outputs": [
    {
     "data": {
      "text/plain": [
       "array([[  0],\n",
       "       [260]])"
      ]
     },
     "execution_count": 9,
     "metadata": {},
     "output_type": "execute_result"
    }
   ],
   "source": [
    "np.dot(x, y)"
   ]
  },
  {
   "cell_type": "code",
   "execution_count": 10,
   "id": "01a1b5ed-3414-4d97-87a5-141c7ed6317b",
   "metadata": {},
   "outputs": [
    {
     "data": {
      "text/plain": [
       "array([[  0],\n",
       "       [260]])"
      ]
     },
     "execution_count": 10,
     "metadata": {},
     "output_type": "execute_result"
    }
   ],
   "source": [
    "np.matmul(x, y)"
   ]
  },
  {
   "cell_type": "code",
   "execution_count": 14,
   "id": "8a41d677-e9dc-497a-8a2c-11493aadd058",
   "metadata": {},
   "outputs": [
    {
     "data": {
      "text/plain": [
       "array([[[1, 2, 3]]])"
      ]
     },
     "execution_count": 14,
     "metadata": {},
     "output_type": "execute_result"
    }
   ],
   "source": [
    "np.array([1,2,3]).reshape(1, 1, 3)"
   ]
  },
  {
   "cell_type": "code",
   "execution_count": 18,
   "id": "ce504967-1fb9-45dc-8da6-11d15f199360",
   "metadata": {},
   "outputs": [],
   "source": [
    "x = np.arange(3 * 4 * 4).reshape(3, 4, 4)"
   ]
  },
  {
   "cell_type": "code",
   "execution_count": 29,
   "id": "821f2c25-3f08-41e9-90bd-9134cc81c3c7",
   "metadata": {},
   "outputs": [],
   "source": [
    "y = np.array([10, 100, 1000]).reshape(3, 1, 1)"
   ]
  },
  {
   "cell_type": "code",
   "execution_count": 30,
   "id": "4cfc59e8-ca5e-4c18-bb7e-c473e95292f6",
   "metadata": {},
   "outputs": [
    {
     "data": {
      "text/plain": [
       "array([[[    0,    10,    20,    30],\n",
       "        [   40,    50,    60,    70],\n",
       "        [   80,    90,   100,   110],\n",
       "        [  120,   130,   140,   150]],\n",
       "\n",
       "       [[ 1600,  1700,  1800,  1900],\n",
       "        [ 2000,  2100,  2200,  2300],\n",
       "        [ 2400,  2500,  2600,  2700],\n",
       "        [ 2800,  2900,  3000,  3100]],\n",
       "\n",
       "       [[32000, 33000, 34000, 35000],\n",
       "        [36000, 37000, 38000, 39000],\n",
       "        [40000, 41000, 42000, 43000],\n",
       "        [44000, 45000, 46000, 47000]]])"
      ]
     },
     "execution_count": 30,
     "metadata": {},
     "output_type": "execute_result"
    }
   ],
   "source": [
    "x * y"
   ]
  },
  {
   "cell_type": "code",
   "execution_count": 21,
   "id": "fcb0c11a-4985-47ee-b71e-b1502f24c7b5",
   "metadata": {},
   "outputs": [
    {
     "data": {
      "text/plain": [
       "array([[[ 0,  1,  2,  3],\n",
       "        [ 4,  5,  6,  7],\n",
       "        [ 8,  9, 10, 11],\n",
       "        [12, 13, 14, 15]],\n",
       "\n",
       "       [[16, 17, 18, 19],\n",
       "        [20, 21, 22, 23],\n",
       "        [24, 25, 26, 27],\n",
       "        [28, 29, 30, 31]],\n",
       "\n",
       "       [[32, 33, 34, 35],\n",
       "        [36, 37, 38, 39],\n",
       "        [40, 41, 42, 43],\n",
       "        [44, 45, 46, 47]]])"
      ]
     },
     "execution_count": 21,
     "metadata": {},
     "output_type": "execute_result"
    }
   ],
   "source": [
    "x"
   ]
  },
  {
   "cell_type": "code",
   "execution_count": 22,
   "id": "c711be7f-2a6f-48c0-9ed4-306fc6326a05",
   "metadata": {},
   "outputs": [
    {
     "data": {
      "text/plain": [
       "array([  10,  100, 1000])"
      ]
     },
     "execution_count": 22,
     "metadata": {},
     "output_type": "execute_result"
    }
   ],
   "source": [
    "y"
   ]
  },
  {
   "cell_type": "code",
   "execution_count": 32,
   "id": "e1fb1169-abd7-421b-a988-6b679a272797",
   "metadata": {},
   "outputs": [
    {
     "data": {
      "text/plain": [
       "array([  10,  200, 3000])"
      ]
     },
     "execution_count": 32,
     "metadata": {},
     "output_type": "execute_result"
    }
   ],
   "source": [
    "np.array([1, 2, 3]) * np.array([10 , 100, 1000])"
   ]
  },
  {
   "cell_type": "code",
   "execution_count": null,
   "id": "020b3d10-fc15-4443-8ac6-9d2717ddfd9f",
   "metadata": {},
   "outputs": [],
   "source": []
  }
 ],
 "metadata": {
  "kernelspec": {
   "display_name": "Python 3",
   "language": "python",
   "name": "python3"
  },
  "language_info": {
   "codemirror_mode": {
    "name": "ipython",
    "version": 3
   },
   "file_extension": ".py",
   "mimetype": "text/x-python",
   "name": "python",
   "nbconvert_exporter": "python",
   "pygments_lexer": "ipython3",
   "version": "3.9.6"
  }
 },
 "nbformat": 4,
 "nbformat_minor": 5
}
