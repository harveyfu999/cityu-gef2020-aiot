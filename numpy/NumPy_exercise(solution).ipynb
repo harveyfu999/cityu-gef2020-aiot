{
 "cells": [
  {
   "cell_type": "markdown",
   "metadata": {},
   "source": [
    "# Import required packages"
   ]
  },
  {
   "cell_type": "code",
   "execution_count": 1,
   "metadata": {
    "id": "Nx1ZIFazsDA9"
   },
   "outputs": [],
   "source": [
    "import numpy as np\n",
    "from matplotlib import pyplot as plt\n",
    "plt.style.use('seaborn')"
   ]
  },
  {
   "cell_type": "markdown",
   "metadata": {},
   "source": [
    "# Exercise 1"
   ]
  },
  {
   "cell_type": "code",
   "execution_count": 2,
   "metadata": {},
   "outputs": [
    {
     "name": "stdout",
     "output_type": "stream",
     "text": [
      "a before: [0, 1, 2, 3, 4, 5]\n",
      "b before: [1, 2, 3]\n",
      "a after: [0, 1, 2, 3, 4, 5]\n",
      "b after: [1000, 2, 3]\n"
     ]
    }
   ],
   "source": [
    "a_list = list(range(6))\n",
    "b_list = a_list[1:4]\n",
    "print('a before:', a_list)\n",
    "print('b before:', b_list)\n",
    "b_list[0] = 1000\n",
    "print('a after:', a_list)\n",
    "print('b after:', b_list)"
   ]
  },
  {
   "cell_type": "code",
   "execution_count": 3,
   "metadata": {},
   "outputs": [
    {
     "name": "stdout",
     "output_type": "stream",
     "text": [
      "a before: [0 1 2 3 4 5]\n",
      "b before: [1 2 3]\n",
      "a after: [   0 1000    2    3    4    5]\n",
      "b after: [1000    2    3]\n"
     ]
    }
   ],
   "source": [
    "a_array = np.arange(6)\n",
    "b_array = a_array[1:4]\n",
    "print('a before:', a_array)\n",
    "print('b before:', b_array)\n",
    "b_array[0] = 1000\n",
    "print('a after:', a_array)\n",
    "print('b after:', b_array)"
   ]
  },
  {
   "cell_type": "code",
   "execution_count": 4,
   "metadata": {},
   "outputs": [
    {
     "name": "stdout",
     "output_type": "stream",
     "text": [
      "a before: [0 1 2 3 4 5]\n",
      "b before: [1 2 3]\n",
      "a after: [0 1 2 3 4 5]\n",
      "b after: [1000    2    3]\n"
     ]
    }
   ],
   "source": [
    "a_array = np.arange(6)\n",
    "b_array = a_array[1:4].copy()\n",
    "print('a before:', a_array)\n",
    "print('b before:', b_array)\n",
    "b_array[0] = 1000\n",
    "print('a after:', a_array)\n",
    "print('b after:', b_array)"
   ]
  },
  {
   "cell_type": "code",
   "execution_count": 5,
   "metadata": {},
   "outputs": [
    {
     "name": "stdout",
     "output_type": "stream",
     "text": [
      "a before: [0 1 2 3 4 5]\n",
      "b before: [1 2 3]\n",
      "a after: [0 1 2 3 4 5]\n",
      "b after: [1000    2    3]\n"
     ]
    }
   ],
   "source": [
    "a_array = np.arange(6)\n",
    "b_array = np.array(a_array[1:4])\n",
    "print('a before:', a_array)\n",
    "print('b before:', b_array)\n",
    "b_array[0] = 1000\n",
    "print('a after:', a_array)\n",
    "print('b after:', b_array)"
   ]
  },
  {
   "cell_type": "code",
   "execution_count": 6,
   "metadata": {},
   "outputs": [
    {
     "data": {
      "text/plain": [
       "array([[1, 2],\n",
       "       [3, 4]])"
      ]
     },
     "execution_count": 6,
     "metadata": {},
     "output_type": "execute_result"
    }
   ],
   "source": [
    "x = np.arange(1,5).reshape(2,2)\n",
    "x"
   ]
  },
  {
   "cell_type": "markdown",
   "metadata": {},
   "source": [
    "# Exercise 2"
   ]
  },
  {
   "cell_type": "code",
   "execution_count": 7,
   "metadata": {},
   "outputs": [
    {
     "data": {
      "text/plain": [
       "array([1, 2, 3, 4, 5, 6])"
      ]
     },
     "execution_count": 7,
     "metadata": {},
     "output_type": "execute_result"
    }
   ],
   "source": [
    "x = np.arange(1,7)\n",
    "x"
   ]
  },
  {
   "cell_type": "code",
   "execution_count": 8,
   "metadata": {},
   "outputs": [],
   "source": [
    "x = x.reshape(-1,2)"
   ]
  },
  {
   "cell_type": "code",
   "execution_count": 9,
   "metadata": {},
   "outputs": [
    {
     "data": {
      "text/plain": [
       "(3, 2)"
      ]
     },
     "execution_count": 9,
     "metadata": {},
     "output_type": "execute_result"
    }
   ],
   "source": [
    "x.shape"
   ]
  },
  {
   "cell_type": "code",
   "execution_count": 10,
   "metadata": {},
   "outputs": [
    {
     "ename": "ValueError",
     "evalue": "cannot reshape array of size 6 into shape (4)",
     "output_type": "error",
     "traceback": [
      "\u001b[1;31m---------------------------------------------------------------------------\u001b[0m",
      "\u001b[1;31mValueError\u001b[0m                                Traceback (most recent call last)",
      "\u001b[1;32m<ipython-input-10-181116912a76>\u001b[0m in \u001b[0;36m<module>\u001b[1;34m\u001b[0m\n\u001b[1;32m----> 1\u001b[1;33m \u001b[0mx\u001b[0m\u001b[1;33m.\u001b[0m\u001b[0mreshape\u001b[0m\u001b[1;33m(\u001b[0m\u001b[1;33m-\u001b[0m\u001b[1;36m1\u001b[0m\u001b[1;33m,\u001b[0m\u001b[1;36m4\u001b[0m\u001b[1;33m)\u001b[0m\u001b[1;33m\u001b[0m\u001b[1;33m\u001b[0m\u001b[0m\n\u001b[0m",
      "\u001b[1;31mValueError\u001b[0m: cannot reshape array of size 6 into shape (4)"
     ]
    }
   ],
   "source": [
    "x.reshape(-1,4)"
   ]
  },
  {
   "cell_type": "markdown",
   "metadata": {},
   "source": [
    "# Exercise 3"
   ]
  },
  {
   "cell_type": "code",
   "execution_count": 11,
   "metadata": {},
   "outputs": [],
   "source": [
    "a = np.array([0,1,2])\n",
    "b = np.array([3,0,0])"
   ]
  },
  {
   "cell_type": "code",
   "execution_count": 12,
   "metadata": {},
   "outputs": [],
   "source": [
    "a_dot_b = np.dot(a,b)"
   ]
  },
  {
   "cell_type": "code",
   "execution_count": 13,
   "metadata": {},
   "outputs": [],
   "source": [
    "norm_a = np.linalg.norm(a)\n",
    "norm_b = np.linalg.norm(b)"
   ]
  },
  {
   "cell_type": "code",
   "execution_count": 14,
   "metadata": {},
   "outputs": [],
   "source": [
    "cos_theta = a_dot_b/(norm_a*norm_b)"
   ]
  },
  {
   "cell_type": "code",
   "execution_count": 15,
   "metadata": {},
   "outputs": [],
   "source": [
    "theta = np.arccos(cos_theta)"
   ]
  },
  {
   "cell_type": "code",
   "execution_count": 16,
   "metadata": {},
   "outputs": [
    {
     "data": {
      "text/plain": [
       "90.0"
      ]
     },
     "execution_count": 16,
     "metadata": {},
     "output_type": "execute_result"
    }
   ],
   "source": [
    "theta*(180/np.pi) "
   ]
  },
  {
   "cell_type": "code",
   "execution_count": 17,
   "metadata": {},
   "outputs": [
    {
     "data": {
      "text/plain": [
       "True"
      ]
     },
     "execution_count": 17,
     "metadata": {},
     "output_type": "execute_result"
    }
   ],
   "source": [
    "np.pi/2 == theta"
   ]
  },
  {
   "cell_type": "markdown",
   "metadata": {},
   "source": [
    "# Exercise 4 - Linear Regression Exercise"
   ]
  },
  {
   "cell_type": "markdown",
   "metadata": {},
   "source": [
    "## Simulation of mock data \n",
    "\n",
    "Suppose the independent variable $x$ and the response variable $y$ follow a linear relationship, i.e.:\n",
    "\n",
    "$$ y  = \\mathbf{\\beta}^\\top \\cdot \\mathbf{x} = \\beta_0 + \\beta_1 x$$\n",
    "\n",
    "where\n",
    "\n",
    "$$\n",
    "\\mathbf{\\beta}\n",
    "=\n",
    "\\begin{bmatrix} \n",
    "\\beta_0 \\\\\n",
    "\\beta_1\n",
    "\\end{bmatrix} \n",
    "\\text{     and,    } \n",
    "\\mathbf{x}\n",
    "=\n",
    "\\begin{bmatrix} \n",
    "1 \\\\\n",
    "x\n",
    "\\end{bmatrix} \n",
    "$$\n",
    "\n",
    "\n",
    "$\\beta_0$ is the intercept term and $\\beta_1$ is the slope term."
   ]
  },
  {
   "cell_type": "markdown",
   "metadata": {},
   "source": [
    "We want to create some mock data $(X,Y)$ of $N=1000$ data points with certain amount of Gaussian noise $\\epsilon \\sim \\mathcal{N} (0,1) $.\n",
    "\n",
    "\n",
    "Where \n",
    "\n",
    "$$\n",
    "X\n",
    "=\n",
    "\\begin{bmatrix}\n",
    "\\mathbf{x_1}, \n",
    "\\mathbf{x_2}, \n",
    "\\cdots,\n",
    "\\mathbf{x_N}\n",
    "\\end{bmatrix}\n",
    "=\n",
    "\\begin{bmatrix}\n",
    "1 & 1& & 1\\\\\n",
    "& &\\cdots &\\\\\n",
    "x_1 & x_2& & x_N\n",
    "\\end{bmatrix}\n",
    "\\text{         and ,     }\n",
    "Y\n",
    "=\n",
    "\\begin{bmatrix}\n",
    "y_1,\n",
    "y_2,\n",
    "\\cdots,\n",
    "y_N\n",
    "\\end{bmatrix}\n",
    "$$\n",
    "\n",
    "\n"
   ]
  },
  {
   "cell_type": "markdown",
   "metadata": {},
   "source": [
    "and\n",
    "\n",
    "$$ y_i = \\mathbf{\\beta}^\\top \\cdot \\mathbf{x}_i + \\epsilon_i = \\beta_0 + \\beta_1 x_i + \\epsilon_i $$ for $i=1 \\ldots N$\n",
    "\n",
    "\n",
    "Let's assume $\\beta_0 = 3$ and $\\beta_1 = 10$."
   ]
  },
  {
   "cell_type": "code",
   "execution_count": 18,
   "metadata": {},
   "outputs": [
    {
     "data": {
      "text/plain": [
       "array([-1.        , -0.997998  , -0.995996  , -0.99399399, -0.99199199,\n",
       "       -0.98998999, -0.98798799, -0.98598599, -0.98398398, -0.98198198,\n",
       "       -0.97997998, -0.97797798, -0.97597598, -0.97397397, -0.97197197,\n",
       "       -0.96996997, -0.96796797, -0.96596597, -0.96396396, -0.96196196,\n",
       "       -0.95995996, -0.95795796, -0.95595596, -0.95395395, -0.95195195,\n",
       "       -0.94994995, -0.94794795, -0.94594595, -0.94394394, -0.94194194,\n",
       "       -0.93993994, -0.93793794, -0.93593594, -0.93393393, -0.93193193,\n",
       "       -0.92992993, -0.92792793, -0.92592593, -0.92392392, -0.92192192,\n",
       "       -0.91991992, -0.91791792, -0.91591592, -0.91391391, -0.91191191,\n",
       "       -0.90990991, -0.90790791, -0.90590591, -0.9039039 , -0.9019019 ,\n",
       "       -0.8998999 , -0.8978979 , -0.8958959 , -0.89389389, -0.89189189,\n",
       "       -0.88988989, -0.88788789, -0.88588589, -0.88388388, -0.88188188,\n",
       "       -0.87987988, -0.87787788, -0.87587588, -0.87387387, -0.87187187,\n",
       "       -0.86986987, -0.86786787, -0.86586587, -0.86386386, -0.86186186,\n",
       "       -0.85985986, -0.85785786, -0.85585586, -0.85385385, -0.85185185,\n",
       "       -0.84984985, -0.84784785, -0.84584585, -0.84384384, -0.84184184,\n",
       "       -0.83983984, -0.83783784, -0.83583584, -0.83383383, -0.83183183,\n",
       "       -0.82982983, -0.82782783, -0.82582583, -0.82382382, -0.82182182,\n",
       "       -0.81981982, -0.81781782, -0.81581582, -0.81381381, -0.81181181,\n",
       "       -0.80980981, -0.80780781, -0.80580581, -0.8038038 , -0.8018018 ,\n",
       "       -0.7997998 , -0.7977978 , -0.7957958 , -0.79379379, -0.79179179,\n",
       "       -0.78978979, -0.78778779, -0.78578579, -0.78378378, -0.78178178,\n",
       "       -0.77977978, -0.77777778, -0.77577578, -0.77377377, -0.77177177,\n",
       "       -0.76976977, -0.76776777, -0.76576577, -0.76376376, -0.76176176,\n",
       "       -0.75975976, -0.75775776, -0.75575576, -0.75375375, -0.75175175,\n",
       "       -0.74974975, -0.74774775, -0.74574575, -0.74374374, -0.74174174,\n",
       "       -0.73973974, -0.73773774, -0.73573574, -0.73373373, -0.73173173,\n",
       "       -0.72972973, -0.72772773, -0.72572573, -0.72372372, -0.72172172,\n",
       "       -0.71971972, -0.71771772, -0.71571572, -0.71371371, -0.71171171,\n",
       "       -0.70970971, -0.70770771, -0.70570571, -0.7037037 , -0.7017017 ,\n",
       "       -0.6996997 , -0.6976977 , -0.6956957 , -0.69369369, -0.69169169,\n",
       "       -0.68968969, -0.68768769, -0.68568569, -0.68368368, -0.68168168,\n",
       "       -0.67967968, -0.67767768, -0.67567568, -0.67367367, -0.67167167,\n",
       "       -0.66966967, -0.66766767, -0.66566567, -0.66366366, -0.66166166,\n",
       "       -0.65965966, -0.65765766, -0.65565566, -0.65365365, -0.65165165,\n",
       "       -0.64964965, -0.64764765, -0.64564565, -0.64364364, -0.64164164,\n",
       "       -0.63963964, -0.63763764, -0.63563564, -0.63363363, -0.63163163,\n",
       "       -0.62962963, -0.62762763, -0.62562563, -0.62362362, -0.62162162,\n",
       "       -0.61961962, -0.61761762, -0.61561562, -0.61361361, -0.61161161,\n",
       "       -0.60960961, -0.60760761, -0.60560561, -0.6036036 , -0.6016016 ,\n",
       "       -0.5995996 , -0.5975976 , -0.5955956 , -0.59359359, -0.59159159,\n",
       "       -0.58958959, -0.58758759, -0.58558559, -0.58358358, -0.58158158,\n",
       "       -0.57957958, -0.57757758, -0.57557558, -0.57357357, -0.57157157,\n",
       "       -0.56956957, -0.56756757, -0.56556557, -0.56356356, -0.56156156,\n",
       "       -0.55955956, -0.55755756, -0.55555556, -0.55355355, -0.55155155,\n",
       "       -0.54954955, -0.54754755, -0.54554555, -0.54354354, -0.54154154,\n",
       "       -0.53953954, -0.53753754, -0.53553554, -0.53353353, -0.53153153,\n",
       "       -0.52952953, -0.52752753, -0.52552553, -0.52352352, -0.52152152,\n",
       "       -0.51951952, -0.51751752, -0.51551552, -0.51351351, -0.51151151,\n",
       "       -0.50950951, -0.50750751, -0.50550551, -0.5035035 , -0.5015015 ,\n",
       "       -0.4994995 , -0.4974975 , -0.4954955 , -0.49349349, -0.49149149,\n",
       "       -0.48948949, -0.48748749, -0.48548549, -0.48348348, -0.48148148,\n",
       "       -0.47947948, -0.47747748, -0.47547548, -0.47347347, -0.47147147,\n",
       "       -0.46946947, -0.46746747, -0.46546547, -0.46346346, -0.46146146,\n",
       "       -0.45945946, -0.45745746, -0.45545546, -0.45345345, -0.45145145,\n",
       "       -0.44944945, -0.44744745, -0.44544545, -0.44344344, -0.44144144,\n",
       "       -0.43943944, -0.43743744, -0.43543544, -0.43343343, -0.43143143,\n",
       "       -0.42942943, -0.42742743, -0.42542543, -0.42342342, -0.42142142,\n",
       "       -0.41941942, -0.41741742, -0.41541542, -0.41341341, -0.41141141,\n",
       "       -0.40940941, -0.40740741, -0.40540541, -0.4034034 , -0.4014014 ,\n",
       "       -0.3993994 , -0.3973974 , -0.3953954 , -0.39339339, -0.39139139,\n",
       "       -0.38938939, -0.38738739, -0.38538539, -0.38338338, -0.38138138,\n",
       "       -0.37937938, -0.37737738, -0.37537538, -0.37337337, -0.37137137,\n",
       "       -0.36936937, -0.36736737, -0.36536537, -0.36336336, -0.36136136,\n",
       "       -0.35935936, -0.35735736, -0.35535536, -0.35335335, -0.35135135,\n",
       "       -0.34934935, -0.34734735, -0.34534535, -0.34334334, -0.34134134,\n",
       "       -0.33933934, -0.33733734, -0.33533534, -0.33333333, -0.33133133,\n",
       "       -0.32932933, -0.32732733, -0.32532533, -0.32332332, -0.32132132,\n",
       "       -0.31931932, -0.31731732, -0.31531532, -0.31331331, -0.31131131,\n",
       "       -0.30930931, -0.30730731, -0.30530531, -0.3033033 , -0.3013013 ,\n",
       "       -0.2992993 , -0.2972973 , -0.2952953 , -0.29329329, -0.29129129,\n",
       "       -0.28928929, -0.28728729, -0.28528529, -0.28328328, -0.28128128,\n",
       "       -0.27927928, -0.27727728, -0.27527528, -0.27327327, -0.27127127,\n",
       "       -0.26926927, -0.26726727, -0.26526527, -0.26326326, -0.26126126,\n",
       "       -0.25925926, -0.25725726, -0.25525526, -0.25325325, -0.25125125,\n",
       "       -0.24924925, -0.24724725, -0.24524525, -0.24324324, -0.24124124,\n",
       "       -0.23923924, -0.23723724, -0.23523524, -0.23323323, -0.23123123,\n",
       "       -0.22922923, -0.22722723, -0.22522523, -0.22322322, -0.22122122,\n",
       "       -0.21921922, -0.21721722, -0.21521522, -0.21321321, -0.21121121,\n",
       "       -0.20920921, -0.20720721, -0.20520521, -0.2032032 , -0.2012012 ,\n",
       "       -0.1991992 , -0.1971972 , -0.1951952 , -0.19319319, -0.19119119,\n",
       "       -0.18918919, -0.18718719, -0.18518519, -0.18318318, -0.18118118,\n",
       "       -0.17917918, -0.17717718, -0.17517518, -0.17317317, -0.17117117,\n",
       "       -0.16916917, -0.16716717, -0.16516517, -0.16316316, -0.16116116,\n",
       "       -0.15915916, -0.15715716, -0.15515516, -0.15315315, -0.15115115,\n",
       "       -0.14914915, -0.14714715, -0.14514515, -0.14314314, -0.14114114,\n",
       "       -0.13913914, -0.13713714, -0.13513514, -0.13313313, -0.13113113,\n",
       "       -0.12912913, -0.12712713, -0.12512513, -0.12312312, -0.12112112,\n",
       "       -0.11911912, -0.11711712, -0.11511512, -0.11311311, -0.11111111,\n",
       "       -0.10910911, -0.10710711, -0.10510511, -0.1031031 , -0.1011011 ,\n",
       "       -0.0990991 , -0.0970971 , -0.0950951 , -0.09309309, -0.09109109,\n",
       "       -0.08908909, -0.08708709, -0.08508509, -0.08308308, -0.08108108,\n",
       "       -0.07907908, -0.07707708, -0.07507508, -0.07307307, -0.07107107,\n",
       "       -0.06906907, -0.06706707, -0.06506507, -0.06306306, -0.06106106,\n",
       "       -0.05905906, -0.05705706, -0.05505506, -0.05305305, -0.05105105,\n",
       "       -0.04904905, -0.04704705, -0.04504505, -0.04304304, -0.04104104,\n",
       "       -0.03903904, -0.03703704, -0.03503504, -0.03303303, -0.03103103,\n",
       "       -0.02902903, -0.02702703, -0.02502503, -0.02302302, -0.02102102,\n",
       "       -0.01901902, -0.01701702, -0.01501502, -0.01301301, -0.01101101,\n",
       "       -0.00900901, -0.00700701, -0.00500501, -0.003003  , -0.001001  ,\n",
       "        0.001001  ,  0.003003  ,  0.00500501,  0.00700701,  0.00900901,\n",
       "        0.01101101,  0.01301301,  0.01501502,  0.01701702,  0.01901902,\n",
       "        0.02102102,  0.02302302,  0.02502503,  0.02702703,  0.02902903,\n",
       "        0.03103103,  0.03303303,  0.03503504,  0.03703704,  0.03903904,\n",
       "        0.04104104,  0.04304304,  0.04504505,  0.04704705,  0.04904905,\n",
       "        0.05105105,  0.05305305,  0.05505506,  0.05705706,  0.05905906,\n",
       "        0.06106106,  0.06306306,  0.06506507,  0.06706707,  0.06906907,\n",
       "        0.07107107,  0.07307307,  0.07507508,  0.07707708,  0.07907908,\n",
       "        0.08108108,  0.08308308,  0.08508509,  0.08708709,  0.08908909,\n",
       "        0.09109109,  0.09309309,  0.0950951 ,  0.0970971 ,  0.0990991 ,\n",
       "        0.1011011 ,  0.1031031 ,  0.10510511,  0.10710711,  0.10910911,\n",
       "        0.11111111,  0.11311311,  0.11511512,  0.11711712,  0.11911912,\n",
       "        0.12112112,  0.12312312,  0.12512513,  0.12712713,  0.12912913,\n",
       "        0.13113113,  0.13313313,  0.13513514,  0.13713714,  0.13913914,\n",
       "        0.14114114,  0.14314314,  0.14514515,  0.14714715,  0.14914915,\n",
       "        0.15115115,  0.15315315,  0.15515516,  0.15715716,  0.15915916,\n",
       "        0.16116116,  0.16316316,  0.16516517,  0.16716717,  0.16916917,\n",
       "        0.17117117,  0.17317317,  0.17517518,  0.17717718,  0.17917918,\n",
       "        0.18118118,  0.18318318,  0.18518519,  0.18718719,  0.18918919,\n",
       "        0.19119119,  0.19319319,  0.1951952 ,  0.1971972 ,  0.1991992 ,\n",
       "        0.2012012 ,  0.2032032 ,  0.20520521,  0.20720721,  0.20920921,\n",
       "        0.21121121,  0.21321321,  0.21521522,  0.21721722,  0.21921922,\n",
       "        0.22122122,  0.22322322,  0.22522523,  0.22722723,  0.22922923,\n",
       "        0.23123123,  0.23323323,  0.23523524,  0.23723724,  0.23923924,\n",
       "        0.24124124,  0.24324324,  0.24524525,  0.24724725,  0.24924925,\n",
       "        0.25125125,  0.25325325,  0.25525526,  0.25725726,  0.25925926,\n",
       "        0.26126126,  0.26326326,  0.26526527,  0.26726727,  0.26926927,\n",
       "        0.27127127,  0.27327327,  0.27527528,  0.27727728,  0.27927928,\n",
       "        0.28128128,  0.28328328,  0.28528529,  0.28728729,  0.28928929,\n",
       "        0.29129129,  0.29329329,  0.2952953 ,  0.2972973 ,  0.2992993 ,\n",
       "        0.3013013 ,  0.3033033 ,  0.30530531,  0.30730731,  0.30930931,\n",
       "        0.31131131,  0.31331331,  0.31531532,  0.31731732,  0.31931932,\n",
       "        0.32132132,  0.32332332,  0.32532533,  0.32732733,  0.32932933,\n",
       "        0.33133133,  0.33333333,  0.33533534,  0.33733734,  0.33933934,\n",
       "        0.34134134,  0.34334334,  0.34534535,  0.34734735,  0.34934935,\n",
       "        0.35135135,  0.35335335,  0.35535536,  0.35735736,  0.35935936,\n",
       "        0.36136136,  0.36336336,  0.36536537,  0.36736737,  0.36936937,\n",
       "        0.37137137,  0.37337337,  0.37537538,  0.37737738,  0.37937938,\n",
       "        0.38138138,  0.38338338,  0.38538539,  0.38738739,  0.38938939,\n",
       "        0.39139139,  0.39339339,  0.3953954 ,  0.3973974 ,  0.3993994 ,\n",
       "        0.4014014 ,  0.4034034 ,  0.40540541,  0.40740741,  0.40940941,\n",
       "        0.41141141,  0.41341341,  0.41541542,  0.41741742,  0.41941942,\n",
       "        0.42142142,  0.42342342,  0.42542543,  0.42742743,  0.42942943,\n",
       "        0.43143143,  0.43343343,  0.43543544,  0.43743744,  0.43943944,\n",
       "        0.44144144,  0.44344344,  0.44544545,  0.44744745,  0.44944945,\n",
       "        0.45145145,  0.45345345,  0.45545546,  0.45745746,  0.45945946,\n",
       "        0.46146146,  0.46346346,  0.46546547,  0.46746747,  0.46946947,\n",
       "        0.47147147,  0.47347347,  0.47547548,  0.47747748,  0.47947948,\n",
       "        0.48148148,  0.48348348,  0.48548549,  0.48748749,  0.48948949,\n",
       "        0.49149149,  0.49349349,  0.4954955 ,  0.4974975 ,  0.4994995 ,\n",
       "        0.5015015 ,  0.5035035 ,  0.50550551,  0.50750751,  0.50950951,\n",
       "        0.51151151,  0.51351351,  0.51551552,  0.51751752,  0.51951952,\n",
       "        0.52152152,  0.52352352,  0.52552553,  0.52752753,  0.52952953,\n",
       "        0.53153153,  0.53353353,  0.53553554,  0.53753754,  0.53953954,\n",
       "        0.54154154,  0.54354354,  0.54554555,  0.54754755,  0.54954955,\n",
       "        0.55155155,  0.55355355,  0.55555556,  0.55755756,  0.55955956,\n",
       "        0.56156156,  0.56356356,  0.56556557,  0.56756757,  0.56956957,\n",
       "        0.57157157,  0.57357357,  0.57557558,  0.57757758,  0.57957958,\n",
       "        0.58158158,  0.58358358,  0.58558559,  0.58758759,  0.58958959,\n",
       "        0.59159159,  0.59359359,  0.5955956 ,  0.5975976 ,  0.5995996 ,\n",
       "        0.6016016 ,  0.6036036 ,  0.60560561,  0.60760761,  0.60960961,\n",
       "        0.61161161,  0.61361361,  0.61561562,  0.61761762,  0.61961962,\n",
       "        0.62162162,  0.62362362,  0.62562563,  0.62762763,  0.62962963,\n",
       "        0.63163163,  0.63363363,  0.63563564,  0.63763764,  0.63963964,\n",
       "        0.64164164,  0.64364364,  0.64564565,  0.64764765,  0.64964965,\n",
       "        0.65165165,  0.65365365,  0.65565566,  0.65765766,  0.65965966,\n",
       "        0.66166166,  0.66366366,  0.66566567,  0.66766767,  0.66966967,\n",
       "        0.67167167,  0.67367367,  0.67567568,  0.67767768,  0.67967968,\n",
       "        0.68168168,  0.68368368,  0.68568569,  0.68768769,  0.68968969,\n",
       "        0.69169169,  0.69369369,  0.6956957 ,  0.6976977 ,  0.6996997 ,\n",
       "        0.7017017 ,  0.7037037 ,  0.70570571,  0.70770771,  0.70970971,\n",
       "        0.71171171,  0.71371371,  0.71571572,  0.71771772,  0.71971972,\n",
       "        0.72172172,  0.72372372,  0.72572573,  0.72772773,  0.72972973,\n",
       "        0.73173173,  0.73373373,  0.73573574,  0.73773774,  0.73973974,\n",
       "        0.74174174,  0.74374374,  0.74574575,  0.74774775,  0.74974975,\n",
       "        0.75175175,  0.75375375,  0.75575576,  0.75775776,  0.75975976,\n",
       "        0.76176176,  0.76376376,  0.76576577,  0.76776777,  0.76976977,\n",
       "        0.77177177,  0.77377377,  0.77577578,  0.77777778,  0.77977978,\n",
       "        0.78178178,  0.78378378,  0.78578579,  0.78778779,  0.78978979,\n",
       "        0.79179179,  0.79379379,  0.7957958 ,  0.7977978 ,  0.7997998 ,\n",
       "        0.8018018 ,  0.8038038 ,  0.80580581,  0.80780781,  0.80980981,\n",
       "        0.81181181,  0.81381381,  0.81581582,  0.81781782,  0.81981982,\n",
       "        0.82182182,  0.82382382,  0.82582583,  0.82782783,  0.82982983,\n",
       "        0.83183183,  0.83383383,  0.83583584,  0.83783784,  0.83983984,\n",
       "        0.84184184,  0.84384384,  0.84584585,  0.84784785,  0.84984985,\n",
       "        0.85185185,  0.85385385,  0.85585586,  0.85785786,  0.85985986,\n",
       "        0.86186186,  0.86386386,  0.86586587,  0.86786787,  0.86986987,\n",
       "        0.87187187,  0.87387387,  0.87587588,  0.87787788,  0.87987988,\n",
       "        0.88188188,  0.88388388,  0.88588589,  0.88788789,  0.88988989,\n",
       "        0.89189189,  0.89389389,  0.8958959 ,  0.8978979 ,  0.8998999 ,\n",
       "        0.9019019 ,  0.9039039 ,  0.90590591,  0.90790791,  0.90990991,\n",
       "        0.91191191,  0.91391391,  0.91591592,  0.91791792,  0.91991992,\n",
       "        0.92192192,  0.92392392,  0.92592593,  0.92792793,  0.92992993,\n",
       "        0.93193193,  0.93393393,  0.93593594,  0.93793794,  0.93993994,\n",
       "        0.94194194,  0.94394394,  0.94594595,  0.94794795,  0.94994995,\n",
       "        0.95195195,  0.95395395,  0.95595596,  0.95795796,  0.95995996,\n",
       "        0.96196196,  0.96396396,  0.96596597,  0.96796797,  0.96996997,\n",
       "        0.97197197,  0.97397397,  0.97597598,  0.97797798,  0.97997998,\n",
       "        0.98198198,  0.98398398,  0.98598599,  0.98798799,  0.98998999,\n",
       "        0.99199199,  0.99399399,  0.995996  ,  0.997998  ,  1.        ])"
      ]
     },
     "execution_count": 18,
     "metadata": {},
     "output_type": "execute_result"
    }
   ],
   "source": [
    "N = 1000\n",
    "x = np.linspace(-1,1,N)\n",
    "x"
   ]
  },
  {
   "cell_type": "code",
   "execution_count": 19,
   "metadata": {
    "colab": {
     "base_uri": "https://localhost:8080/",
     "height": 365
    },
    "id": "mTVqxx2BsO7t",
    "outputId": "7fc940f7-3cac-4d47-e709-ff6a7dfabeee"
   },
   "outputs": [
    {
     "data": {
      "text/plain": [
       "<matplotlib.collections.PathCollection at 0x1aeeefd35b0>"
      ]
     },
     "execution_count": 19,
     "metadata": {},
     "output_type": "execute_result"
    },
    {
     "data": {
      "image/png": "[encoded data removed]",
      "text/plain": [
       "<Figure size 576x396 with 1 Axes>"
      ]
     },
     "metadata": {},
     "output_type": "display_data"
    }
   ],
   "source": [
    "N = 1000 #sample size\n",
    "\n",
    "true_beta = np.array([3,10])\n",
    "x = np.linspace(-1,1,N)\n",
    "x1 = np.vstack([np.ones(x.shape), x])\n",
    "\n",
    "eps = np.random.normal(0,1,N)\n",
    "\n",
    "y = np.matmul(true_beta, x1) + eps\n",
    "\n",
    "plt.scatter(x,y)"
   ]
  },
  {
   "cell_type": "code",
   "execution_count": 20,
   "metadata": {},
   "outputs": [
    {
     "data": {
      "text/plain": [
       "(array([ 13., 223., 511., 238.,  15.]),\n",
       " array([-3.79078196, -2.30580131, -0.82082066,  0.66415999,  2.14914064,\n",
       "         3.63412129]),\n",
       " <a list of 5 Patch objects>)"
      ]
     },
     "execution_count": 20,
     "metadata": {},
     "output_type": "execute_result"
    },
    {
     "data": {
      "image/png": "[encoded data removed]",
      "text/plain": [
       "<Figure size 576x396 with 1 Axes>"
      ]
     },
     "metadata": {},
     "output_type": "display_data"
    }
   ],
   "source": [
    "# eps follows standard normal distribution\n",
    "eps = np.random.normal(0,1,N)\n",
    "plt.hist(eps, bins=5)"
   ]
  },
  {
   "cell_type": "markdown",
   "metadata": {},
   "source": [
    "## Linear Regression"
   ]
  },
  {
   "cell_type": "markdown",
   "metadata": {},
   "source": [
    "Suppose that we know $x$ and $y$ follow a linear relationship, but we do not know the value of $\\mathbf{\\beta}$. \n",
    "We want to build a linear model $f(\\mathbf{x}; \\beta)$ and estimate the value of $\\mathbf{\\beta}$ from data samples $(x_i,y_i)$, so that given any input $\\mathbf{x}_i$, we can make a prediction $\\hat{y_i}$:\n",
    "\n",
    "\n",
    "$$ \\hat{y_i} = f(\\mathbf{x}_i; \\beta) = \\mathbf{\\beta}^\\top \\cdot \\mathbf{x}_i  = \\beta_0 + \\beta_1 x_i  $$\n",
    "\n",
    "\n"
   ]
  },
  {
   "cell_type": "markdown",
   "metadata": {},
   "source": [
    "Define the mean squared error loss function which measure the error between our predictions and the actual values:"
   ]
  },
  {
   "cell_type": "markdown",
   "metadata": {
    "id": "_7g8A-Cb6svF"
   },
   "source": [
    "$$ l = \\frac{1}{N} \\sum_{i=1}^{N} (y_i-\\hat{y_i})^2 $$"
   ]
  },
  {
   "cell_type": "markdown",
   "metadata": {},
   "source": [
    "We can estimate the value of $\\beta$ by finding the minimizer which minimizes $l$ using the Newton-Raphson algorithm."
   ]
  },
  {
   "cell_type": "markdown",
   "metadata": {},
   "source": [
    "$$\n",
    "\\mathbf{\\hat{\\beta}}\n",
    "=\n",
    "\\text{argmin}_\\beta \\   l(\\beta)\n",
    "$$"
   ]
  },
  {
   "cell_type": "markdown",
   "metadata": {},
   "source": [
    "## Gradient and Hessian"
   ]
  },
  {
   "cell_type": "markdown",
   "metadata": {},
   "source": [
    "To use the Newton-Raphson algorithm, we need to calculate the gradient and Hessian of the loss function, which are the first order and second order partial derivatives of the loss function respectively."
   ]
  },
  {
   "cell_type": "markdown",
   "metadata": {},
   "source": [
    "### The first order partial derivatives of the loss function are:"
   ]
  },
  {
   "cell_type": "markdown",
   "metadata": {},
   "source": [
    "$$\n",
    "\\begin{align}\n",
    "\\frac{\\partial l}{\\partial \\beta_0} &= -\\frac{2}{N} \\sum_{i=1}^N (y_i-\\hat{y_i}) \\\\\n",
    "\\frac{\\partial l}{\\partial \\beta_1} &= -\\frac{2}{N} \\sum_{i=1}^N x_i \\cdot (y_i-\\hat{y_i}) \n",
    "\\end{align}\n",
    "$$"
   ]
  },
  {
   "cell_type": "markdown",
   "metadata": {},
   "source": [
    "### The gradient of the loss function is: "
   ]
  },
  {
   "cell_type": "markdown",
   "metadata": {},
   "source": [
    "$$\n",
    "\\nabla l\n",
    "=\n",
    "\\begin{bmatrix} \n",
    "\\frac{\\partial l}{\\partial \\beta_0} \\\\ \n",
    "\\frac{\\partial l}{\\partial \\beta_1}\n",
    "\\end{bmatrix}\n",
    "= \n",
    "-2 \\cdot\n",
    "\\begin{bmatrix} \n",
    "\\frac{1}{N} \\sum_{i=1}^N (y_i -\\hat{y_i}) \\\\ \n",
    "\\frac{1}{N} \\sum_{i=1}^N x_i \\cdot (y_i -\\hat{y_i})\n",
    "\\end{bmatrix}\n",
    "$$"
   ]
  },
  {
   "cell_type": "markdown",
   "metadata": {},
   "source": [
    "### The second order partial derivatives of the loss function are:"
   ]
  },
  {
   "cell_type": "markdown",
   "metadata": {},
   "source": [
    "$$ \n",
    "\\begin{align}\n",
    "\\frac{\\partial^2 l}{\\partial \\beta_0^2} &= 2 \\\\\n",
    "\\frac{\\partial^2 l}{\\partial \\beta_1^2} &=  \\frac{2}{N} \\sum_{i=1}^N x_i^2 \\\\\n",
    "\\frac{\\partial^2 l}{\\partial \\beta_0 \\partial \\beta_1}  \n",
    "&=  \n",
    "\\frac{\\partial^2 l}{\\partial \\beta_1 \\partial \\beta_0}\n",
    "=\n",
    "\\frac{2}{N} \\sum_{i=1}^N x_i \n",
    "\\end{align}\n",
    "$$"
   ]
  },
  {
   "cell_type": "markdown",
   "metadata": {},
   "source": [
    "### The Hessian of the loss function is: "
   ]
  },
  {
   "cell_type": "markdown",
   "metadata": {},
   "source": [
    "$$ \n",
    "H \n",
    "= \n",
    "\\begin{bmatrix} \n",
    "\\frac{\\partial^2 l}{\\partial \\beta_0^2} & \\frac{\\partial^2 l}{\\partial \\beta_0 \\partial \\beta_1} \\\\ \\frac{\\partial^2 l}{\\partial \\beta_1 \\partial \\beta_0} & \\frac{\\partial^2 l}{\\partial \\beta_1^2} \n",
    "\\end{bmatrix} \n",
    "= \n",
    "2 \\cdot\n",
    "\\begin{bmatrix}\n",
    "1 & \\frac{1}{N} \\sum_{i=1}^N x_i \\\\\n",
    "\\frac{1}{N} \\sum_{i=1}^N x_i & \\frac{1}{N} \\sum_{i=1}^N x_i^2\n",
    "\\end{bmatrix}\n",
    "$$"
   ]
  },
  {
   "cell_type": "markdown",
   "metadata": {
    "id": "QHy-SEHM3Nd7"
   },
   "source": [
    "## Newton-Raphson Algorithm (2nd Order Optimization)\n",
    "\n",
    "\n",
    "\n",
    "\n",
    "\n",
    "\n"
   ]
  },
  {
   "cell_type": "markdown",
   "metadata": {},
   "source": [
    "Define the functions for our linear model and the loss function"
   ]
  },
  {
   "cell_type": "code",
   "execution_count": 21,
   "metadata": {
    "id": "DrghUjgCtJ52"
   },
   "outputs": [],
   "source": [
    "# Define the function for our linear model\n",
    "def model(param,x1):\n",
    "    return np.matmul(param, x1)\n",
    "\n",
    "# Define the function for our loss function\n",
    "def loss_func(param, x1, y): \n",
    "    y_hat = model(param,x1)\n",
    "    return np.mean( (y-y_hat)**2 )"
   ]
  },
  {
   "cell_type": "markdown",
   "metadata": {
    "id": "jN03rwVr6qsN"
   },
   "source": [
    "Newton-Raphson algorithm:\n",
    "\n",
    "1. Initialize $\\mathbf{\\beta}$ by sampling from the standard normal distribution  $\\mathcal{N} (0,1)$ \n",
    "\n",
    "\n",
    "\n",
    "2. At each iteration $k$, update the parameters $\\mathbf{\\beta}$ by this equation: \\\n",
    "   $$ \\mathbf{\\beta_{k+1}} = \\mathbf{\\beta_k} - H^{-1} \\mathbf{\\nabla} l(\\beta_k) $$\n",
    "     \n",
    "     \n",
    "3. Stop the algorithm when $|l(\\beta_{k+1}) - l(\\beta_k)| < \\text{tolerance}$, we can use a small number, i.e. $10^{-7}$, as our tolerance value \n",
    "\n",
    "\n",
    "Hint:\n",
    "1. You can use np.abs(delta) to compute the absolute value of delta\n"
   ]
  },
  {
   "cell_type": "code",
   "execution_count": 22,
   "metadata": {
    "colab": {
     "base_uri": "https://localhost:8080/",
     "height": 419
    },
    "id": "qIDLrQvmu9hy",
    "outputId": "694c213e-9ced-43b0-e14c-d7c524e62b0f"
   },
   "outputs": [
    {
     "name": "stdout",
     "output_type": "stream",
     "text": [
      "At 0-th step, the loss is 1.018\n",
      "At 1-th step, the loss is 1.018\n"
     ]
    }
   ],
   "source": [
    "beta = np.random.normal(0,1,2) #initialize beta\n",
    "tol = 1e-7 #toloerance\n",
    "delta = 1 #a variable to store the value for l(\\beta_{k+1}) - l(\\beta_{k}), initialized to be 1\n",
    "k = 0\n",
    "h =  2*np.array([ [1, np.mean(x) ], [np.mean(x), np.mean(x**2)] ])\n",
    "\n",
    "while np.abs(delta) >= tol:\n",
    "    \n",
    "    y_hat = model(beta, x1)\n",
    "    g = -2*np.array([ np.mean(y-y_hat), np.mean(x*(y-y_hat)) ])\n",
    "    \n",
    "    \n",
    "    prev_loss = loss_func(beta, x1, y)\n",
    "    #solution 1\n",
    "    beta -= np.linalg.solve(h,g)\n",
    "    \n",
    "    #solution 2\n",
    "    #inv_h = np.linalg.inv(h)\n",
    "    #beta -= np.matmul(inv_h,g)\n",
    "    current_loss = loss_func(beta, x1, y)\n",
    "    \n",
    "    delta = current_loss - prev_loss\n",
    "    \n",
    "    print('At {}-th step, the loss is {:.3f}'.format(k, current_loss))\n",
    "    k += 1\n",
    "    \n"
   ]
  },
  {
   "cell_type": "markdown",
   "metadata": {},
   "source": [
    "## Visualizing the result"
   ]
  },
  {
   "cell_type": "code",
   "execution_count": 23,
   "metadata": {
    "colab": {
     "base_uri": "https://localhost:8080/",
     "height": 361
    },
    "id": "xIXU02pRu9jy",
    "outputId": "cb9b7e97-7290-4170-dac5-6568835c9cfc"
   },
   "outputs": [
    {
     "name": "stdout",
     "output_type": "stream",
     "text": [
      "The estimated value for beta is: [ 2.9657494  10.03063674]\n",
      "The true value for beta is: [ 3 10]\n"
     ]
    },
    {
     "data": {
      "image/png": "[encoded data removed]",
      "text/plain": [
       "<Figure size 576x396 with 1 Axes>"
      ]
     },
     "metadata": {},
     "output_type": "display_data"
    }
   ],
   "source": [
    "print('The estimated value for beta is:', beta)\n",
    "print('The true value for beta is:', true_beta)\n",
    "\n",
    "y_pred = np.matmul(beta,x1)\n",
    "\n",
    "plt.plot(x, y_pred, 'r')\n",
    "plt.scatter(x,y)\n",
    "plt.ylabel('y')\n",
    "plt.xlabel('x')\n",
    "plt.show()"
   ]
  },
  {
   "cell_type": "markdown",
   "metadata": {
    "id": "_eEc80S_4y4p"
   },
   "source": [
    "## Gradient Descent Algorithm (1st Order Optimization) [Optional Exercise]"
   ]
  },
  {
   "cell_type": "markdown",
   "metadata": {
    "id": "sWziMZP96hSH"
   },
   "source": [
    "Gradient descent algorithm:\n",
    "\n",
    "\n",
    "1. Initialize $\\mathbf{\\beta}$ by sampling from the standard normal distribution  $\\mathcal{N} (0,1)$ \n",
    "\n",
    "\n",
    "\n",
    "2. At each iteration $k$, update the parameters $\\mathbf{\\beta}$ by this equation: \\\n",
    "   $$ \\mathbf{\\beta_{k+1}} = \\mathbf{\\beta_k} - \\alpha \\mathbf{\\nabla} l(\\beta_k) $$\n",
    "   where $\\alpha \\sim 10^{-1}$ is the step size\n",
    "\n",
    "\n",
    "\n",
    "3. Stop the algorithm when $|l(\\beta_{k+1}) - l(\\beta_k)| < \\text{tolerance}$, we can use a small number, i.e. $10^{-7}$, as our tolerance value \n",
    "\n"
   ]
  },
  {
   "cell_type": "code",
   "execution_count": 24,
   "metadata": {
    "colab": {
     "base_uri": "https://localhost:8080/",
     "height": 1000
    },
    "id": "pWPNUYyAxm8q",
    "outputId": "b9e8fb27-f39c-4b2d-cac9-b2fda707b6e4",
    "scrolled": true
   },
   "outputs": [
    {
     "name": "stdout",
     "output_type": "stream",
     "text": [
      "At 0-th step, the loss is 15.926\n",
      "At 1-th step, the loss is 6.221\n",
      "At 2-th step, the loss is 2.880\n",
      "At 3-th step, the loss is 1.687\n",
      "At 4-th step, the loss is 1.258\n",
      "At 5-th step, the loss is 1.104\n",
      "At 6-th step, the loss is 1.049\n",
      "At 7-th step, the loss is 1.029\n",
      "At 8-th step, the loss is 1.022\n",
      "At 9-th step, the loss is 1.020\n",
      "At 10-th step, the loss is 1.019\n",
      "At 11-th step, the loss is 1.018\n",
      "At 12-th step, the loss is 1.018\n",
      "At 13-th step, the loss is 1.018\n",
      "At 14-th step, the loss is 1.018\n",
      "At 15-th step, the loss is 1.018\n",
      "At 16-th step, the loss is 1.018\n",
      "At 17-th step, the loss is 1.018\n",
      "At 18-th step, the loss is 1.018\n",
      "At 19-th step, the loss is 1.018\n"
     ]
    }
   ],
   "source": [
    "beta = np.random.normal(0,1,2)\n",
    "\n",
    "alpha = 6e-1\n",
    "tol = 1e-7\n",
    "delta = 1\n",
    "k = 0\n",
    "\n",
    "while np.abs(delta) >= tol:\n",
    "    \n",
    "    y_hat = model(beta, x1)\n",
    "    g = -2*np.array([ np.mean(y-y_hat), np.mean(x*(y-y_hat)) ])\n",
    "    \n",
    "    \n",
    "    prev_loss = loss_func(beta, x1, y)\n",
    "\n",
    "    #solution for gradient descent\n",
    "    beta -= alpha*g \n",
    "    \n",
    "    current_loss = loss_func(beta, x1, y)\n",
    "    \n",
    "    delta = current_loss - prev_loss\n",
    "    \n",
    "    print('At {}-th step, the loss is {:.3f}'.format(k, current_loss))\n",
    "    k += 1\n"
   ]
  },
  {
   "cell_type": "markdown",
   "metadata": {},
   "source": [
    "## Visualizing the result"
   ]
  },
  {
   "cell_type": "code",
   "execution_count": 25,
   "metadata": {
    "colab": {
     "base_uri": "https://localhost:8080/",
     "height": 361
    },
    "id": "hmG0WtzI5C0N",
    "outputId": "f44eede9-3dcb-4974-b2ea-1738e3a2d23b"
   },
   "outputs": [
    {
     "name": "stdout",
     "output_type": "stream",
     "text": [
      "The estimated value for beta is: [ 2.9657494  10.03024612]\n",
      "The true value for beta is: [ 3 10]\n"
     ]
    },
    {
     "data": {
      "image/png": "[encoded data removed]",
      "text/plain": [
       "<Figure size 576x396 with 1 Axes>"
      ]
     },
     "metadata": {},
     "output_type": "display_data"
    }
   ],
   "source": [
    "print('The estimated value for beta is:', beta)\n",
    "print('The true value for beta is:', true_beta)\n",
    "\n",
    "y_pred = np.matmul(beta,x1)\n",
    "\n",
    "plt.plot(x, y_pred, 'r')\n",
    "plt.scatter(x,y)\n",
    "plt.ylabel('y')\n",
    "plt.xlabel('x')\n",
    "plt.show()"
   ]
  },
  {
   "cell_type": "code",
   "execution_count": null,
   "metadata": {},
   "outputs": [],
   "source": []
  }
 ],
 "metadata": {
  "colab": {
   "name": "linear_regression.ipynb",
   "provenance": []
  },
  "kernelspec": {
   "display_name": "Python 3",
   "language": "python",
   "name": "python3"
  },
  "language_info": {
   "codemirror_mode": {
    "name": "ipython",
    "version": 3
   },
   "file_extension": ".py",
   "mimetype": "text/x-python",
   "name": "python",
   "nbconvert_exporter": "python",
   "pygments_lexer": "ipython3",
   "version": "3.8.3"
  }
 },
 "nbformat": 4,
 "nbformat_minor": 1
}
